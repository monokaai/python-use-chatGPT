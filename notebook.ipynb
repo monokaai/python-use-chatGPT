{
 "cells": [
  {
   "cell_type": "markdown",
   "metadata": {},
   "source": [
    "# セットアップ"
   ]
  },
  {
   "cell_type": "code",
   "execution_count": null,
   "metadata": {},
   "outputs": [],
   "source": [
    "%pip install openai python-dotenv"
   ]
  },
  {
   "cell_type": "code",
   "execution_count": null,
   "metadata": {},
   "outputs": [],
   "source": [
    "import os\n",
    "from dotenv import load_dotenv\n",
    "\n",
    "# APIキーを読み込む\n",
    "load_dotenv(verbose=True)\n",
    "my_apikey = os.environ.get(\"MY_OPENAI_KEY\")"
   ]
  },
  {
   "cell_type": "markdown",
   "metadata": {},
   "source": [
    "# chatGPTに質問を投げる"
   ]
  },
  {
   "cell_type": "code",
   "execution_count": null,
   "metadata": {},
   "outputs": [],
   "source": [
    "import openai\n",
    "from IPython.display import Markdown\n",
    "\n",
    "# APIキーの設定\n",
    "openai.api_key = my_apikey\n",
    "\n",
    "def chat(messages):\n",
    "    response = openai.ChatCompletion.create(\n",
    "        model=\"gpt-3.5-turbo\",\n",
    "        # model=\"gpt-4\", # N/A on my dashboard yet\n",
    "        messages=messages,\n",
    "    )\n",
    "    return response[\"choices\"][0][\"message\"][\"content\"]\n",
    "\n",
    "# 初期セットアップ\n",
    "initial_prompt = \"あなたは私の有能なアシスタントです。私からのあらゆる質問に回答して、より良いアイデアを出す助けになってください。\"\n",
    "conversation_history = [{\"role\": \"system\", \"content\": initial_prompt}]"
   ]
  },
  {
   "cell_type": "code",
   "execution_count": null,
   "metadata": {},
   "outputs": [],
   "source": [
    "# 基本的なメッセージのやり取り\n",
    "message = \"ここに質問を入れてセルを実行\"\n",
    "conversation_history.append({\"role\": \"user\", \"content\": message})\n",
    "response = chat(conversation_history)\n",
    "display(Markdown(response))\n",
    "conversation_history.append({\"role\": \"assistant\", \"content\": response})"
   ]
  },
  {
   "cell_type": "markdown",
   "metadata": {},
   "source": [
    "# YouTubeチャンネルの動画一覧をAPIで取得して要約させる"
   ]
  },
  {
   "cell_type": "code",
   "execution_count": null,
   "metadata": {},
   "outputs": [],
   "source": [
    "import subprocess\n",
    "from time import sleep\n",
    "import json\n",
    "import pandas as pd\n",
    "from pathlib import Path\n",
    "\n",
    "columns = ['publishedAt', 'channelId', 'channelTitle', 'title', 'url']\n",
    "def extract_data(row):\n",
    "    \"\"\"データ抽出処理\"\"\"\n",
    "    video_id = row.id.get('videoId', 'not_a_video')\n",
    "    snippet = row.snippet\n",
    "    url = f'https://www.youtube.com/watch?v={video_id}'\n",
    "    result =[]\n",
    "    for col in columns:\n",
    "        if col != 'url':\n",
    "            result.append(snippet[col])\n",
    "        else:\n",
    "            result.append(url)\n",
    "    return [snippet['publishedAt'], snippet['channelId'], snippet['channelTitle'], snippet['title'], url]\n",
    "\n",
    "\n",
    "# 指定のチャンネルから動画URLをJSON形式で取得して保存\n",
    "youtube_apikey = os.environ.get('MY_YOUTUBE_APIKEY')\n",
    "channelId = os.environ.get('TARGET_CHANNEL_ID')\n",
    "fetch_result_num = 50 # 最大50件\n",
    "\n",
    "dataset_dir = Path(channelId)\n",
    "dataset_dir.mkdir(exist_ok=True)\n",
    "page_num = 1\n",
    "\n",
    "base = f'https://www.googleapis.com/youtube/v3/search?key={youtube_apikey}&channelId={channelId}&part=snippet,id&order=date&maxResults={fetch_result_num}'\n",
    "next_page_token = None\n",
    "df_list = []\n",
    "while True:\n",
    "    # 初回はトークンなし\n",
    "    if next_page_token:\n",
    "        curl_detail = base + f'&pageToken={next_page_token}'\n",
    "    else:\n",
    "        curl_detail = base\n",
    "    curl_command = f'curl \"{curl_detail}\"'\n",
    "\n",
    "    # APIから動画データ取得・抽出\n",
    "    result = subprocess.run(curl_command, shell=True, capture_output=True, text=True)\n",
    "    _json = json.loads(result.stdout)\n",
    "    next_page_token = _json.get('nextPageToken', None)\n",
    "    df = pd.DataFrame(_json['items'])\n",
    "    df['data'] = df.apply(extract_data, axis=1)\n",
    "    df_page = pd.DataFrame(df.data.tolist(), columns=columns)\n",
    "    df_list.append(df_page)\n",
    "\n",
    "    # 2ページ目以降へのトークンがなければ終了\n",
    "    if not next_page_token:\n",
    "        break\n",
    "    sleep(5)\n",
    "\n",
    "df_result = pd.concat(df_list).sort_values(\"publishedAt\", ascending=True, ignore_index=True)\n",
    "print(df_result)\n",
    "df_result.head()"
   ]
  },
  {
   "cell_type": "code",
   "execution_count": null,
   "metadata": {},
   "outputs": [],
   "source": [
    "df_result = pd.concat(df_list).sort_values(\"publishedAt\", ascending=True, ignore_index=True)\n",
    "df_result = df_result[~df_result.url.str.contains('not_a_video')]\n",
    "df_result.head()"
   ]
  },
  {
   "cell_type": "code",
   "execution_count": null,
   "metadata": {},
   "outputs": [],
   "source": [
    "from datetime import datetime\n",
    "\n",
    "df_result.sort_values(\"publishedAt\", ascending=True, inplace=True, ignore_index=True)\n",
    "channel_name = df_result.channelTitle.values[0]\n",
    "today = datetime.today().strftime('%Y%m%d')\n",
    "df_result.to_csv(f'{channel_name}_{today}.csv', index=False)"
   ]
  },
  {
   "cell_type": "code",
   "execution_count": null,
   "metadata": {},
   "outputs": [],
   "source": [
    "# GPT-4のAPIが非公開なので動作しない\n",
    "\n",
    "# # YouTube動画のタイトル・URL・要約をCSVにまとめる\n",
    "# base_prompt = '''以下のYoutube動画の字幕データを日本語でかつ全体の内容が欠損しないよう要約してください。\n",
    "# チャンク毎に要約してください。\n",
    "# {}\n",
    "# '''\n",
    "# for url in df_result.url:\n",
    "#     conversation_history.append({\"role\": \"user\", \"content\": base_prompt.format(url)})\n",
    "#     response = chat(conversation_history)\n",
    "#     display(Markdown(response))\n",
    "#     conversation_history.append({\"role\": \"assistant\", \"content\": response})"
   ]
  },
  {
   "cell_type": "code",
   "execution_count": null,
   "metadata": {},
   "outputs": [],
   "source": [
    "# 保存済みデータ読込み\n",
    "csv_path = ''\n",
    "df_result = pd.read_csv(csv_path)"
   ]
  },
  {
   "cell_type": "code",
   "execution_count": null,
   "metadata": {},
   "outputs": [],
   "source": [
    "# GPT-4にプロンプトを手動で投げる\n",
    "prompt = '''\n",
    "これからYouTube動画のURLを渡すので、その字幕データを日本語でかつ全体の内容が欠損しないよう要約してください。\n",
    "チャンク毎に要約してください。\n",
    "'''"
   ]
  },
  {
   "cell_type": "code",
   "execution_count": null,
   "metadata": {},
   "outputs": [],
   "source": [
    "# YouTube動画のURLを示して要約させる\n",
    "start = 15\n",
    "df_result.iloc[df_result.index>start, :].head(15)[['title', 'url']]"
   ]
  },
  {
   "cell_type": "code",
   "execution_count": null,
   "metadata": {},
   "outputs": [],
   "source": [
    "print(df_result.iloc[df_result.index>start, :].title.head(15).to_string(index=False))"
   ]
  }
 ],
 "metadata": {
  "kernelspec": {
   "display_name": "ml",
   "language": "python",
   "name": "python3"
  },
  "language_info": {
   "codemirror_mode": {
    "name": "ipython",
    "version": 3
   },
   "file_extension": ".py",
   "mimetype": "text/x-python",
   "name": "python",
   "nbconvert_exporter": "python",
   "pygments_lexer": "ipython3",
   "version": "3.9.13"
  },
  "orig_nbformat": 4
 },
 "nbformat": 4,
 "nbformat_minor": 2
}
